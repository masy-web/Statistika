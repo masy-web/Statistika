{
  "nbformat": 4,
  "nbformat_minor": 0,
  "metadata": {
    "colab": {
      "name": "statistika8C.ipynb",
      "provenance": [],
      "collapsed_sections": [
        "Ln-Pux1M4YhL",
        "hF3cSPN_5qJl",
        "-7OVvGDT5Rfe",
        "tKnKFWCD5ks7"
      ],
      "include_colab_link": true
    },
    "kernelspec": {
      "name": "python3",
      "display_name": "Python 3"
    },
    "language_info": {
      "name": "python"
    }
  },
  "cells": [
    {
      "cell_type": "markdown",
      "metadata": {
        "id": "view-in-github",
        "colab_type": "text"
      },
      "source": [
        "<a href=\"https://colab.research.google.com/github/masy-web/Statistika/blob/main/statistika8C.ipynb\" target=\"_parent\"><img src=\"https://colab.research.google.com/assets/colab-badge.svg\" alt=\"Open In Colab\"/></a>"
      ]
    },
    {
      "cell_type": "code",
      "metadata": {
        "id": "dXzAjrF6rq0-"
      },
      "source": [
        "import numpy as np\n",
        "import pandas as pd\n",
        "import math as mt"
      ],
      "execution_count": 2,
      "outputs": []
    },
    {
      "cell_type": "code",
      "metadata": {
        "colab": {
          "base_uri": "https://localhost:8080/"
        },
        "id": "QgtsaQP4ElV9",
        "outputId": "439e713a-536c-4318-f3c6-fa87c7abc624"
      },
      "source": [
        "nilaitengah = np.array([1749999.5, 2649999.5, 3549999.5 , 4449999.5 , 5349999.5 , 6249999.5 , 7149999.5 , 8049999.5 ])\n",
        "frekuensi = np.array([26,41,15,8,4,1,0,3])\n",
        " \n",
        "def jumlahFrekuensi(frekuensi):\n",
        "    a = 0\n",
        "    b = frekuensi \n",
        "    jumlahFrekuensi = len(b) \n",
        " \n",
        "    for i in range(jumlahFrekuensi): \n",
        "        c = b[i] \n",
        "        a+=c\n",
        "    return a \n",
        " \n",
        "print(\"Jumlah frekuensi adalah :\",jumlahFrekuensi(frekuensi)) \n",
        " \n",
        "def jumlahnilai(nilaitengah,frekuensi): \n",
        "    hasil = nilaitengah * frekuensi \n",
        "    total = sum(hasil)\n",
        "    return total     \n",
        "print(\"Total dari Nilai Tengah kali Frekuensi adalah:\", jumlahnilai(nilaitengah,frekuensi)) \n",
        " \n",
        "ratarata = jumlahnilai(nilaitengah, frekuensi) / jumlahFrekuensi(frekuensi)\n",
        "print (\"Jadi Rata-ratanya adalah\", ratarata)"
      ],
      "execution_count": 4,
      "outputs": [
        {
          "output_type": "stream",
          "text": [
            "Jumlah frekuensi adalah : 98\n",
            "Total dari Nilai Tengah kali Frekuensi adalah: 294799951.0\n",
            "Jadi Rata-ratanya adalah 3008162.7653061226\n"
          ],
          "name": "stdout"
        }
      ]
    },
    {
      "cell_type": "markdown",
      "metadata": {
        "id": "Ln-Pux1M4YhL"
      },
      "source": [
        "##Median "
      ]
    },
    {
      "cell_type": "code",
      "metadata": {
        "colab": {
          "resources": {
            "http://localhost:8080/nbextensions/google.colab/files.js": {
              "data": "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",
              "ok": true,
              "headers": [
                [
                  "content-type",
                  "application/javascript"
                ]
              ],
              "status": 200,
              "status_text": "OK"
            }
          },
          "base_uri": "https://localhost:8080/",
          "height": 115
        },
        "id": "eAZAITAQ4dE3",
        "outputId": "9e479f0d-d6ed-40d6-adbf-5ea08475aed5"
      },
      "source": [
        "from google.colab import files\n",
        "files.upload()"
      ],
      "execution_count": null,
      "outputs": [
        {
          "output_type": "display_data",
          "data": {
            "text/html": [
              "\n",
              "     <input type=\"file\" id=\"files-0d3012b2-1456-43f8-bb6f-fae220a07487\" name=\"files[]\" multiple disabled\n",
              "        style=\"border:none\" />\n",
              "     <output id=\"result-0d3012b2-1456-43f8-bb6f-fae220a07487\">\n",
              "      Upload widget is only available when the cell has been executed in the\n",
              "      current browser session. Please rerun this cell to enable.\n",
              "      </output>\n",
              "      <script src=\"/nbextensions/google.colab/files.js\"></script> "
            ],
            "text/plain": [
              "<IPython.core.display.HTML object>"
            ]
          },
          "metadata": {
            "tags": []
          }
        },
        {
          "output_type": "stream",
          "text": [
            "Saving Statistikakel8c.csv to Statistikakel8c.csv\n"
          ],
          "name": "stdout"
        },
        {
          "output_type": "execute_result",
          "data": {
            "text/plain": [
              "{'Statistikakel8c.csv': b'Min kelas interval,Max kelas interval,Xi,f,Tb,Ta,fkk\\r\\n1,1000000,500000.50,1,0.5,1000000.5,1\\r\\n1000001,2000000,1500000.50,45,1000000.5,2000000.5,46\\r\\n2000001,3000000,2500000.50,58,2000000.5,3000000.5,104\\r\\n3000001,4000000,3500000.50,24,3000000.5,4000000.5,128\\r\\n4000001,5000000,4500000.50,8,4000000.5,5000000.5,136\\r\\n5000001,6000000,5500000.50,4,5000000.5,6000000.5,140\\r\\n6000001,7000000,6500000.50,1,6000000.5,7000000.5,141\\r\\n7000001,8000000,7500000.50,3,7000000.5,8000000.5,144\\r\\n8000001,9000000,8500000.50,2,8000000.5,9000000.5,146\\r\\n'}"
            ]
          },
          "metadata": {
            "tags": []
          },
          "execution_count": 1
        }
      ]
    },
    {
      "cell_type": "code",
      "metadata": {
        "colab": {
          "base_uri": "https://localhost:8080/",
          "height": 206
        },
        "id": "68vDOClC4zeP",
        "outputId": "a0b7c59c-0d1b-47c7-e425-5f8166bb39e8"
      },
      "source": [
        "df = pd.read_csv('Statistikakel8c.csv')\n",
        "df.head()"
      ],
      "execution_count": null,
      "outputs": [
        {
          "output_type": "execute_result",
          "data": {
            "text/html": [
              "<div>\n",
              "<style scoped>\n",
              "    .dataframe tbody tr th:only-of-type {\n",
              "        vertical-align: middle;\n",
              "    }\n",
              "\n",
              "    .dataframe tbody tr th {\n",
              "        vertical-align: top;\n",
              "    }\n",
              "\n",
              "    .dataframe thead th {\n",
              "        text-align: right;\n",
              "    }\n",
              "</style>\n",
              "<table border=\"1\" class=\"dataframe\">\n",
              "  <thead>\n",
              "    <tr style=\"text-align: right;\">\n",
              "      <th></th>\n",
              "      <th>Min kelas interval</th>\n",
              "      <th>Max kelas interval</th>\n",
              "      <th>Xi</th>\n",
              "      <th>f</th>\n",
              "      <th>Tb</th>\n",
              "      <th>Ta</th>\n",
              "      <th>fkk</th>\n",
              "    </tr>\n",
              "  </thead>\n",
              "  <tbody>\n",
              "    <tr>\n",
              "      <th>0</th>\n",
              "      <td>1</td>\n",
              "      <td>1000000</td>\n",
              "      <td>500000.5</td>\n",
              "      <td>1</td>\n",
              "      <td>0.5</td>\n",
              "      <td>1000000.5</td>\n",
              "      <td>1</td>\n",
              "    </tr>\n",
              "    <tr>\n",
              "      <th>1</th>\n",
              "      <td>1000001</td>\n",
              "      <td>2000000</td>\n",
              "      <td>1500000.5</td>\n",
              "      <td>45</td>\n",
              "      <td>1000000.5</td>\n",
              "      <td>2000000.5</td>\n",
              "      <td>46</td>\n",
              "    </tr>\n",
              "    <tr>\n",
              "      <th>2</th>\n",
              "      <td>2000001</td>\n",
              "      <td>3000000</td>\n",
              "      <td>2500000.5</td>\n",
              "      <td>58</td>\n",
              "      <td>2000000.5</td>\n",
              "      <td>3000000.5</td>\n",
              "      <td>104</td>\n",
              "    </tr>\n",
              "    <tr>\n",
              "      <th>3</th>\n",
              "      <td>3000001</td>\n",
              "      <td>4000000</td>\n",
              "      <td>3500000.5</td>\n",
              "      <td>24</td>\n",
              "      <td>3000000.5</td>\n",
              "      <td>4000000.5</td>\n",
              "      <td>128</td>\n",
              "    </tr>\n",
              "    <tr>\n",
              "      <th>4</th>\n",
              "      <td>4000001</td>\n",
              "      <td>5000000</td>\n",
              "      <td>4500000.5</td>\n",
              "      <td>8</td>\n",
              "      <td>4000000.5</td>\n",
              "      <td>5000000.5</td>\n",
              "      <td>136</td>\n",
              "    </tr>\n",
              "  </tbody>\n",
              "</table>\n",
              "</div>"
            ],
            "text/plain": [
              "   Min kelas interval  Max kelas interval         Xi  ...         Tb         Ta  fkk\n",
              "0                   1             1000000   500000.5  ...        0.5  1000000.5    1\n",
              "1             1000001             2000000  1500000.5  ...  1000000.5  2000000.5   46\n",
              "2             2000001             3000000  2500000.5  ...  2000000.5  3000000.5  104\n",
              "3             3000001             4000000  3500000.5  ...  3000000.5  4000000.5  128\n",
              "4             4000001             5000000  4500000.5  ...  4000000.5  5000000.5  136\n",
              "\n",
              "[5 rows x 7 columns]"
            ]
          },
          "metadata": {
            "tags": []
          },
          "execution_count": 4
        }
      ]
    },
    {
      "cell_type": "code",
      "metadata": {
        "colab": {
          "base_uri": "https://localhost:8080/"
        },
        "id": "eE-wOOpw46eS",
        "outputId": "5bf02e5d-f8aa-4e5b-93ae-41a690e033b7"
      },
      "source": [
        "fmed = df['f'].sum()/2\n",
        "if fmed > 0 and fmed < 1:\n",
        "  F = df['f'].values[0]\n",
        "  fi = 0\n",
        "  b = df['Tb'].values[0]\n",
        "elif fmed > 1 and fmed < 46:\n",
        "  F = df['f'].values[1]\n",
        "  fi = df['fkk'].values[0]\n",
        "  b = df['Tb'].values[1]\n",
        "elif fmed > 46 and fmed <104:\n",
        "  F = df['f'].values[2]\n",
        "  fi = df['fkk'].values[1]\n",
        "  b = df['Tb'].values[2]\n",
        "elif fmed > 104 and fmed <128:\n",
        "  F = df['f'].values[3]\n",
        "  fi = df['fkk'].values[2]\n",
        "  b = df['Tb'].values[3]\n",
        "elif fmed > 128 and fmed <136:\n",
        "  F = df['f'].values[4]\n",
        "  fi = df['fkk'].values[3]\n",
        "  b = df['Tb'].values[4]\n",
        "elif fmed > 136 and fmed <140:\n",
        "  F = df['f'].values[5]\n",
        "  fi = df['fkk'].values[4]\n",
        "  b = df['Tb'].values[5]  \n",
        "elif fmed > 140  and fmed <141:\n",
        "  F = df['f'].values[6]\n",
        "  fi = df['fkk'].values[5]\n",
        "  b = df['Tb'].values[6]  \n",
        "elif fmed > 140 and fmed <144:\n",
        "  F = df['f'].values[7]\n",
        "  fi = df['fkk'].values[6]\n",
        "  b = df['Tb'].values[7]\n",
        "else:\n",
        "  F = df['f'].values[8]\n",
        "  fi = df['fkk'].values[7]\n",
        "  b = df['Tb'].values[8]\n",
        "\n",
        "\n",
        "p = 1000000\n",
        "n = df['f'].sum()\n",
        "median = b + p * (((0.5 * n )- fi)/F )\n",
        "print(\"\\nNilai median : \", round(median, 2))"
      ],
      "execution_count": null,
      "outputs": [
        {
          "output_type": "stream",
          "text": [
            "\n",
            "Nilai median :  2465517.74\n"
          ],
          "name": "stdout"
        }
      ]
    },
    {
      "cell_type": "markdown",
      "metadata": {
        "id": "hF3cSPN_5qJl"
      },
      "source": [
        "##Modus"
      ]
    },
    {
      "cell_type": "code",
      "metadata": {
        "colab": {
          "base_uri": "https://localhost:8080/"
        },
        "id": "PgwJrJhiE5Ck",
        "outputId": "878b5c98-4ad5-4b4c-9d13-fff0d456b27f"
      },
      "source": [
        "##### MODUS #####\n",
        "\n",
        "df = pd.read_csv('kuesioner-statistika.csv', delimiter=';') # memuat file csv\n",
        "harga = df['Harga'] # mengambil kolom 'Harga' untuk digunakan sebagai perhitungan\n",
        "\n",
        "def nilai_modus(deret): # membuat fungsi untuk mencari modus dengan parameter 'deret'\n",
        "    show_map = {} # membuat dictionary untuk menyimpan kemunculan tiap data\n",
        "    for i in deret: # melakukan perulangan satu-persatu sebanyak data pada parameter 'deret'\n",
        "        if i in show_map: # periksa apakah data pada perulangan saat ini ada pada dictionary 'show_map'\n",
        "            show_map[i] += 1 # apabila ada, maka tambahkan value sebanyak 1 pada key ke-i di dictionary 'show_map'\n",
        "        else: # jika tidak ada\n",
        "            show_map[i] = 1 # buat key baru pada dictionary 'show_map' berupa data pada perulangan saat ini, kemudian berikan value sebanyak 1\n",
        "\n",
        "    max_num = deret[0] # buat variabel baru untuk menyimpan data terbanyak saat ini. ambil data pertama sebagai yang terbanyak\n",
        "    for j in show_map.keys(): # melakukan perulangan satu-persatu sebanyak jumlah key pada dictionary 'show_map'\n",
        "        sum = show_map[j] # buat variabel baru untuk menyimpan jumlah data pada perulangan saat ini\n",
        "        if sum > show_map[max_num]: # periksa apakah jumlah data pada perulangan saat ini lebih besar dari data terbanyak saat ini\n",
        "            max_num = j # apabila lebih besar, maka ubah data terbanyak saat ini menjadi data pada perulangan saat ini\n",
        "\n",
        "    return max_num # mengembalikan nilai berupa data terbanyak saat ini\n",
        "\n",
        "modus = nilai_modus(harga) # memanggil fungsi 'nilai_modus' dengan parameter berisi variabel 'harga'\n",
        "print(\"Modusnya adalah : \", modus) # cetak hasil dari perhitungan fungsi 'nilai_modus'"
      ],
      "execution_count": null,
      "outputs": [
        {
          "output_type": "stream",
          "text": [
            "Modusnya adalah :  2500000\n"
          ],
          "name": "stdout"
        }
      ]
    },
    {
      "cell_type": "markdown",
      "metadata": {
        "id": "-7OVvGDT5Rfe"
      },
      "source": [
        "##Range"
      ]
    },
    {
      "cell_type": "code",
      "metadata": {
        "colab": {
          "base_uri": "https://localhost:8080/"
        },
        "id": "3GAM9J_I5Ttx",
        "outputId": "f2cb572d-2c96-4edd-dfb1-693be95ba56a"
      },
      "source": [
        "#Cara 1\n",
        "Xi_Akhir = df['Xi'].values[8]\n",
        "Xi_Awal = df['Xi'].values[0]\n",
        "\n",
        "Range1 = Xi_Akhir - Xi_Awal\n",
        "print(\"Cara 1\\nRange = \",Range1)"
      ],
      "execution_count": null,
      "outputs": [
        {
          "output_type": "stream",
          "text": [
            "Cara 1\n",
            "Range =  8000000.0\n"
          ],
          "name": "stdout"
        }
      ]
    },
    {
      "cell_type": "code",
      "metadata": {
        "colab": {
          "base_uri": "https://localhost:8080/"
        },
        "id": "fM5c-vzV5d7F",
        "outputId": "028779d6-aac2-4117-d17f-2ff4ffa0ac53"
      },
      "source": [
        "#Cara 2\n",
        "Ta_akhir = df['Ta'].values[8]\n",
        "Tb_awal = df['Tb'].values[0]\n",
        "\n",
        "Range2 = Ta_akhir - Tb_awal\n",
        "print(\"Cara 2\\nRange = \",Range2)"
      ],
      "execution_count": null,
      "outputs": [
        {
          "output_type": "stream",
          "text": [
            "Cara 2\n",
            "Range =  9000000.0\n"
          ],
          "name": "stdout"
        }
      ]
    },
    {
      "cell_type": "markdown",
      "metadata": {
        "id": "tKnKFWCD5ks7"
      },
      "source": [
        "##Simpangan"
      ]
    },
    {
      "cell_type": "code",
      "metadata": {
        "colab": {
          "base_uri": "https://localhost:8080/"
        },
        "id": "RRPeVx-2WN52",
        "outputId": "c7cdea17-8a2a-4e13-9019-6f126b4ef4f5"
      },
      "source": [
        "nilaitengah = np.array([1749999.5, 2649999.5, 3549999.5 , 4449999.5 , 5349999.5 , 6249999.5 , 7149999.5 , 8049999.5 ])\n",
        "frekuensi = np.array([26,41,15,8,4,1,0,3])\n",
        " \n",
        "\n",
        "b=nilaitengah #nilaitengah\n",
        "d=frekuensi #frekuensi\n",
        "ftgh=0 #nilai tengak dikali frekuensi\n",
        "fk=0 #jumlah frekuensi\n",
        "sigma=0 #jumlah frekuensi dikali nilai tengah dikurangi rata-rata kuadrat\n",
        "\n",
        "jumlahFrekuensi = len(b) \n",
        " \n",
        "for i in range(jumlahFrekuensi): \n",
        "  ftgh = ftgh+b[i]*d[i]\n",
        "  fk= fk+d[i]\n",
        "    \n",
        "print('jumlah nilai tengak dikali frekuensi :',ftgh)\n",
        "print('jumlah frekuensi',fk)\n",
        "\n",
        "rata2=ftgh/fk\n",
        "print(\"Jadi Rata-ratanya adalah\",rata2)\n",
        "\n",
        "#simpangan rata-rata\n",
        "for i in range(jumlahFrekuensi): \n",
        "  sigma = sigma+np.absolute(b[i]-rata2)*d[i]\n",
        "  sr=(sigma/fk)\n",
        "print('nilai simpangan rata-rata',sr)\n",
        "\n",
        "#simpangan baku\n",
        "\n",
        "for i in range(jumlahFrekuensi): \n",
        "  sigma = sigma+(b[i]-rata2)**2*d[i]\n",
        "  sb=mt.sqrt(sigma/fk)\n",
        "print('nilai simpangan baku',sb)"
      ],
      "execution_count": 4,
      "outputs": [
        {
          "output_type": "stream",
          "text": [
            "jumlah nilai tengak dikali frekuensi : 294799951.0\n",
            "jumlah frekuensi 98\n",
            "Jadi Rata-ratanya adalah 3008162.7653061226\n",
            "nilai simpangan rata-rata 967284.4648063307\n",
            "nilai simpangan baku 1340722.3311336068\n"
          ],
          "name": "stdout"
        }
      ]
    }
  ]
}