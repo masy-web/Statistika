{
  "nbformat": 4,
  "nbformat_minor": 0,
  "metadata": {
    "colab": {
      "name": "Statistika mean.ipynb",
      "provenance": [],
      "authorship_tag": "ABX9TyOQ2ZTps0BEBAUYr6kwZMHK",
      "include_colab_link": true
    },
    "kernelspec": {
      "name": "python3",
      "display_name": "Python 3"
    },
    "language_info": {
      "name": "python"
    }
  },
  "cells": [
    {
      "cell_type": "markdown",
      "metadata": {
        "id": "view-in-github",
        "colab_type": "text"
      },
      "source": [
        "<a href=\"https://colab.research.google.com/github/masy-web/Statistika/blob/main/Statistika_mean.ipynb\" target=\"_parent\"><img src=\"https://colab.research.google.com/assets/colab-badge.svg\" alt=\"Open In Colab\"/></a>"
      ]
    },
    {
      "cell_type": "code",
      "metadata": {
        "id": "X3N1XV44HhbJ"
      },
      "source": [
        "import numpy as np\n",
        "import pandas as pd\n",
        "import math as mt"
      ],
      "execution_count": 2,
      "outputs": []
    },
    {
      "cell_type": "markdown",
      "metadata": {
        "id": "9bvOpNw8HsMB"
      },
      "source": [
        "##Mean\n"
      ]
    },
    {
      "cell_type": "code",
      "metadata": {
        "colab": {
          "base_uri": "https://localhost:8080/"
        },
        "id": "DDPSHawkHrMN",
        "outputId": "13e4ae21-9af8-469e-e066-8488e8d26881"
      },
      "source": [
        "nilaitengah = np.array([1749999.5, 2649999.5, 3549999.5 , 4449999.5 , 5349999.5 , 6249999.5 , 7149999.5 , 8049999.5 ])\n",
        "frekuensi = np.array([26,41,15,8,4,1,0,3])\n",
        " \n",
        "\n",
        "b=nilaitengah #nilaitengah\n",
        "d=frekuensi #frekuensi\n",
        "ftgh=0 #nilai tengak dikali frekuensi\n",
        "fk=0 #jumlah frekuensi\n",
        "sigma=0 #jumlah frekuensi dikali nilai tengah dikurangi rata-rata kuadrat\n",
        "\n",
        "jumlahFrekuensi = len(b) \n",
        " \n",
        "for i in range(jumlahFrekuensi): \n",
        "  ftgh = ftgh+b[i]*d[i]\n",
        "  fk= fk+d[i]\n",
        "    \n",
        "print('jumlah nilai tengak dikali frekuensi :',ftgh)\n",
        "print('jumlah frekuensi',fk)\n",
        "\n",
        "rata2=ftgh/fk\n",
        "print(\"Jadi Rata-ratanya adalah\",rata2)\n",
        "\n",
        "#simpangan rata-rata\n",
        "for i in range(jumlahFrekuensi): \n",
        "  sigma = sigma+np.absolute(b[i]-rata2)*d[i]\n",
        "  sr=(sigma/fk)\n",
        "print('nilai simpangan rata-rata',sr)\n",
        "\n",
        "#simpangan baku\n",
        "\n",
        "for i in range(jumlahFrekuensi): \n",
        "  sigma = sigma+(b[i]-rata2)**2*d[i]\n",
        "  sb=mt.sqrt(sigma/fk)\n",
        "print('nilai simpangan baku',sb)"
      ],
      "execution_count": 3,
      "outputs": [
        {
          "output_type": "stream",
          "text": [
            "jumlah nilai tengak dikali frekuensi : 294799951.0\n",
            "jumlah frekuensi 98\n",
            "Jadi Rata-ratanya adalah 3008162.7653061226\n",
            "nilai simpangan rata-rata 967284.4648063307\n",
            "nilai simpangan baku 1340722.3311336068\n"
          ],
          "name": "stdout"
        }
      ]
    }
  ]
}