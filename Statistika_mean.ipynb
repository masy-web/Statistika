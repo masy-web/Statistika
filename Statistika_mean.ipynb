{
  "nbformat": 4,
  "nbformat_minor": 0,
  "metadata": {
    "colab": {
      "name": "Statistika mean.ipynb",
      "provenance": [],
      "authorship_tag": "ABX9TyPYuAg+O383dDanosJKGd1h",
      "include_colab_link": true
    },
    "kernelspec": {
      "name": "python3",
      "display_name": "Python 3"
    },
    "language_info": {
      "name": "python"
    }
  },
  "cells": [
    {
      "cell_type": "markdown",
      "metadata": {
        "id": "view-in-github",
        "colab_type": "text"
      },
      "source": [
        "<a href=\"https://colab.research.google.com/github/masy-web/Statistika/blob/main/Statistika_mean.ipynb\" target=\"_parent\"><img src=\"https://colab.research.google.com/assets/colab-badge.svg\" alt=\"Open In Colab\"/></a>"
      ]
    },
    {
      "cell_type": "code",
      "metadata": {
        "id": "X3N1XV44HhbJ"
      },
      "source": [
        "import numpy as np\n",
        "import pandas as pd\n",
        "import math as mt"
      ],
      "execution_count": 1,
      "outputs": []
    },
    {
      "cell_type": "markdown",
      "metadata": {
        "id": "9bvOpNw8HsMB"
      },
      "source": [
        "##Mean\n"
      ]
    },
    {
      "cell_type": "code",
      "metadata": {
        "colab": {
          "base_uri": "https://localhost:8080/"
        },
        "id": "DDPSHawkHrMN",
        "outputId": "819f05ce-6f34-4112-e2a3-9064d7ddc84a"
      },
      "source": [
        "nilaitengah = np.array([1749999.5, 2649999.5, 3549999.5 , 4449999.5 , 5349999.5 , 6249999.5 , 7149999.5 , 8049999.5 ])\n",
        "frekuensi = np.array([26,41,15,8,4,1,0,3])\n",
        " \n",
        "def jumlahFrekuensi(frekuensi):\n",
        "    a = 0\n",
        "    b = frekuensi \n",
        "    jumlahFrekuensi = len(b) \n",
        " \n",
        "    for i in range(jumlahFrekuensi): \n",
        "        c = b[i] \n",
        "        a+=c\n",
        "    return a \n",
        " \n",
        "print(\"Jumlah frekuensi adalah :\",jumlahFrekuensi(frekuensi)) \n",
        " \n",
        "def jumlahnilai(nilaitengah,frekuensi): \n",
        "    hasil = nilaitengah * frekuensi \n",
        "    total = sum(hasil)\n",
        "    return total     \n",
        "print(\"Total dari Nilai Tengah kali Frekuensi adalah:\", jumlahnilai(nilaitengah,frekuensi)) \n",
        " \n",
        "ratarata = jumlahnilai(nilaitengah, frekuensi) / jumlahFrekuensi(frekuensi)\n",
        "print (\"Jadi Rata-ratanya adalah\", ratarata)"
      ],
      "execution_count": 2,
      "outputs": [
        {
          "output_type": "stream",
          "text": [
            "Jumlah frekuensi adalah : 98\n",
            "Total dari Nilai Tengah kali Frekuensi adalah: 294799951.0\n",
            "Jadi Rata-ratanya adalah 3008162.7653061226\n"
          ],
          "name": "stdout"
        }
      ]
    }
  ]
}